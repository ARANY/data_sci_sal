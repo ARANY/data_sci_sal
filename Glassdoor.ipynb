{
  "nbformat": 4,
  "nbformat_minor": 0,
  "metadata": {
    "colab": {
      "name": "Untitled2.ipynb",
      "provenance": [],
      "authorship_tag": "ABX9TyNxIxpwEGLo0v5GLwUUHr8G",
      "include_colab_link": true
    },
    "kernelspec": {
      "name": "python3",
      "display_name": "Python 3"
    }
  },
  "cells": [
    {
      "cell_type": "markdown",
      "metadata": {
        "id": "view-in-github",
        "colab_type": "text"
      },
      "source": [
        "<a href=\"https://colab.research.google.com/github/ARANY/data_sci_sal/blob/main/Glassdoor.ipynb\" target=\"_parent\"><img src=\"https://colab.research.google.com/assets/colab-badge.svg\" alt=\"Open In Colab\"/></a>"
      ]
    },
    {
      "cell_type": "code",
      "metadata": {
        "colab": {
          "base_uri": "https://localhost:8080/"
        },
        "id": "nmAz9o5_D4mD",
        "outputId": "5bf32e6c-29c3-4118-b8da-855449240773"
      },
      "source": [
        "!pip install selenium\r\n"
      ],
      "execution_count": 2,
      "outputs": [
        {
          "output_type": "stream",
          "text": [
            "Collecting selenium\n",
            "\u001b[?25l  Downloading https://files.pythonhosted.org/packages/80/d6/4294f0b4bce4de0abf13e17190289f9d0613b0a44e5dd6a7f5ca98459853/selenium-3.141.0-py2.py3-none-any.whl (904kB)\n",
            "\r\u001b[K     |▍                               | 10kB 12.2MB/s eta 0:00:01\r\u001b[K     |▊                               | 20kB 18.8MB/s eta 0:00:01\r\u001b[K     |█                               | 30kB 19.8MB/s eta 0:00:01\r\u001b[K     |█▌                              | 40kB 16.4MB/s eta 0:00:01\r\u001b[K     |█▉                              | 51kB 13.5MB/s eta 0:00:01\r\u001b[K     |██▏                             | 61kB 15.1MB/s eta 0:00:01\r\u001b[K     |██▌                             | 71kB 12.3MB/s eta 0:00:01\r\u001b[K     |███                             | 81kB 13.3MB/s eta 0:00:01\r\u001b[K     |███▎                            | 92kB 13.1MB/s eta 0:00:01\r\u001b[K     |███▋                            | 102kB 12.9MB/s eta 0:00:01\r\u001b[K     |████                            | 112kB 12.9MB/s eta 0:00:01\r\u001b[K     |████▍                           | 122kB 12.9MB/s eta 0:00:01\r\u001b[K     |████▊                           | 133kB 12.9MB/s eta 0:00:01\r\u001b[K     |█████                           | 143kB 12.9MB/s eta 0:00:01\r\u001b[K     |█████▍                          | 153kB 12.9MB/s eta 0:00:01\r\u001b[K     |█████▉                          | 163kB 12.9MB/s eta 0:00:01\r\u001b[K     |██████▏                         | 174kB 12.9MB/s eta 0:00:01\r\u001b[K     |██████▌                         | 184kB 12.9MB/s eta 0:00:01\r\u001b[K     |██████▉                         | 194kB 12.9MB/s eta 0:00:01\r\u001b[K     |███████▎                        | 204kB 12.9MB/s eta 0:00:01\r\u001b[K     |███████▋                        | 215kB 12.9MB/s eta 0:00:01\r\u001b[K     |████████                        | 225kB 12.9MB/s eta 0:00:01\r\u001b[K     |████████▎                       | 235kB 12.9MB/s eta 0:00:01\r\u001b[K     |████████▊                       | 245kB 12.9MB/s eta 0:00:01\r\u001b[K     |█████████                       | 256kB 12.9MB/s eta 0:00:01\r\u001b[K     |█████████▍                      | 266kB 12.9MB/s eta 0:00:01\r\u001b[K     |█████████▉                      | 276kB 12.9MB/s eta 0:00:01\r\u001b[K     |██████████▏                     | 286kB 12.9MB/s eta 0:00:01\r\u001b[K     |██████████▌                     | 296kB 12.9MB/s eta 0:00:01\r\u001b[K     |██████████▉                     | 307kB 12.9MB/s eta 0:00:01\r\u001b[K     |███████████▎                    | 317kB 12.9MB/s eta 0:00:01\r\u001b[K     |███████████▋                    | 327kB 12.9MB/s eta 0:00:01\r\u001b[K     |████████████                    | 337kB 12.9MB/s eta 0:00:01\r\u001b[K     |████████████▎                   | 348kB 12.9MB/s eta 0:00:01\r\u001b[K     |████████████▊                   | 358kB 12.9MB/s eta 0:00:01\r\u001b[K     |█████████████                   | 368kB 12.9MB/s eta 0:00:01\r\u001b[K     |█████████████▍                  | 378kB 12.9MB/s eta 0:00:01\r\u001b[K     |█████████████▊                  | 389kB 12.9MB/s eta 0:00:01\r\u001b[K     |██████████████▏                 | 399kB 12.9MB/s eta 0:00:01\r\u001b[K     |██████████████▌                 | 409kB 12.9MB/s eta 0:00:01\r\u001b[K     |██████████████▉                 | 419kB 12.9MB/s eta 0:00:01\r\u001b[K     |███████████████▏                | 430kB 12.9MB/s eta 0:00:01\r\u001b[K     |███████████████▋                | 440kB 12.9MB/s eta 0:00:01\r\u001b[K     |████████████████                | 450kB 12.9MB/s eta 0:00:01\r\u001b[K     |████████████████▎               | 460kB 12.9MB/s eta 0:00:01\r\u001b[K     |████████████████▋               | 471kB 12.9MB/s eta 0:00:01\r\u001b[K     |█████████████████               | 481kB 12.9MB/s eta 0:00:01\r\u001b[K     |█████████████████▍              | 491kB 12.9MB/s eta 0:00:01\r\u001b[K     |█████████████████▊              | 501kB 12.9MB/s eta 0:00:01\r\u001b[K     |██████████████████▏             | 512kB 12.9MB/s eta 0:00:01\r\u001b[K     |██████████████████▌             | 522kB 12.9MB/s eta 0:00:01\r\u001b[K     |██████████████████▉             | 532kB 12.9MB/s eta 0:00:01\r\u001b[K     |███████████████████▏            | 542kB 12.9MB/s eta 0:00:01\r\u001b[K     |███████████████████▋            | 552kB 12.9MB/s eta 0:00:01\r\u001b[K     |████████████████████            | 563kB 12.9MB/s eta 0:00:01\r\u001b[K     |████████████████████▎           | 573kB 12.9MB/s eta 0:00:01\r\u001b[K     |████████████████████▋           | 583kB 12.9MB/s eta 0:00:01\r\u001b[K     |█████████████████████           | 593kB 12.9MB/s eta 0:00:01\r\u001b[K     |█████████████████████▍          | 604kB 12.9MB/s eta 0:00:01\r\u001b[K     |█████████████████████▊          | 614kB 12.9MB/s eta 0:00:01\r\u001b[K     |██████████████████████          | 624kB 12.9MB/s eta 0:00:01\r\u001b[K     |██████████████████████▌         | 634kB 12.9MB/s eta 0:00:01\r\u001b[K     |██████████████████████▉         | 645kB 12.9MB/s eta 0:00:01\r\u001b[K     |███████████████████████▏        | 655kB 12.9MB/s eta 0:00:01\r\u001b[K     |███████████████████████▌        | 665kB 12.9MB/s eta 0:00:01\r\u001b[K     |████████████████████████        | 675kB 12.9MB/s eta 0:00:01\r\u001b[K     |████████████████████████▎       | 686kB 12.9MB/s eta 0:00:01\r\u001b[K     |████████████████████████▋       | 696kB 12.9MB/s eta 0:00:01\r\u001b[K     |█████████████████████████       | 706kB 12.9MB/s eta 0:00:01\r\u001b[K     |█████████████████████████▍      | 716kB 12.9MB/s eta 0:00:01\r\u001b[K     |█████████████████████████▊      | 727kB 12.9MB/s eta 0:00:01\r\u001b[K     |██████████████████████████      | 737kB 12.9MB/s eta 0:00:01\r\u001b[K     |██████████████████████████▍     | 747kB 12.9MB/s eta 0:00:01\r\u001b[K     |██████████████████████████▉     | 757kB 12.9MB/s eta 0:00:01\r\u001b[K     |███████████████████████████▏    | 768kB 12.9MB/s eta 0:00:01\r\u001b[K     |███████████████████████████▌    | 778kB 12.9MB/s eta 0:00:01\r\u001b[K     |████████████████████████████    | 788kB 12.9MB/s eta 0:00:01\r\u001b[K     |████████████████████████████▎   | 798kB 12.9MB/s eta 0:00:01\r\u001b[K     |████████████████████████████▋   | 808kB 12.9MB/s eta 0:00:01\r\u001b[K     |█████████████████████████████   | 819kB 12.9MB/s eta 0:00:01\r\u001b[K     |█████████████████████████████▍  | 829kB 12.9MB/s eta 0:00:01\r\u001b[K     |█████████████████████████████▊  | 839kB 12.9MB/s eta 0:00:01\r\u001b[K     |██████████████████████████████  | 849kB 12.9MB/s eta 0:00:01\r\u001b[K     |██████████████████████████████▍ | 860kB 12.9MB/s eta 0:00:01\r\u001b[K     |██████████████████████████████▉ | 870kB 12.9MB/s eta 0:00:01\r\u001b[K     |███████████████████████████████▏| 880kB 12.9MB/s eta 0:00:01\r\u001b[K     |███████████████████████████████▌| 890kB 12.9MB/s eta 0:00:01\r\u001b[K     |███████████████████████████████▉| 901kB 12.9MB/s eta 0:00:01\r\u001b[K     |████████████████████████████████| 911kB 12.9MB/s \n",
            "\u001b[?25hRequirement already satisfied: urllib3 in /usr/local/lib/python3.7/dist-packages (from selenium) (1.24.3)\n",
            "Installing collected packages: selenium\n",
            "Successfully installed selenium-3.141.0\n"
          ],
          "name": "stdout"
        }
      ]
    },
    {
      "cell_type": "code",
      "metadata": {
        "id": "4vBeETmaIryX"
      },
      "source": [
        "from selenium.common.exceptions import NoSuchElementException, ElementClickInterceptedException\r\n",
        "from selenium import webdriver\r\n",
        "import time\r\n",
        "import pandas as pd"
      ],
      "execution_count": 3,
      "outputs": []
    },
    {
      "cell_type": "code",
      "metadata": {
        "id": "-UUp6vGmJ7dk"
      },
      "source": [
        "def get_jobs(keyword, num_jobs, verbose,slp_time):\r\n",
        "    \r\n",
        "    '''Gathers jobs as a dataframe, scraped from Glassdoor'''\r\n",
        "    \r\n",
        "    #Initializing the webdriver\r\n",
        "    options = webdriver.ChromeOptions()\r\n",
        "    \r\n",
        "    #Uncomment the line below if you'd like to scrape without a new Chrome window every time.\r\n",
        "    #options.add_argument('headless')\r\n",
        "    \r\n",
        "    #Change the path to where chromedriver is in your home folder.\r\n",
        "    driver = webdriver.Chrome(executable_path = \"C:/Users/arany/Documents/data_sci_sal/chromedriver\", options=options)\r\n",
        "    driver.set_window_size(1120, 1000)\r\n",
        "\r\n",
        "    url = 'https://www.glassdoor.com/Job/jobs.htm?sc.keyword=\"' + keyword + '\"&locT=C&locId=1147401&locKeyword=San%20Francisco,%20CA&jobType=all&fromAge=-1&minSalary=0&includeNoSalaryJobs=true&radius=100&cityId=-1&minRating=0.0&industryId=-1&sgocId=-1&seniorityType=all&companyId=-1&employerSizes=0&applicationType=0&remoteWorkType=0'\r\n",
        "    driver.get(url)\r\n",
        "    jobs = []\r\n",
        "\r\n",
        "    while len(jobs) < num_jobs:  #If true, should be still looking for new jobs.\r\n",
        "\r\n",
        "        #Let the page load. Change this number based on your internet speed.\r\n",
        "        #Or, wait until the webpage is loaded, instead of hardcoding it.\r\n",
        "        time.sleep(slp_time)\r\n",
        "\r\n",
        "        #Test for the \"Sign Up\" prompt and get rid of it.\r\n",
        "        try:\r\n",
        "            driver.find_element_by_class_name(\"selected\").click()\r\n",
        "        except ElementClickInterceptedException:\r\n",
        "            pass\r\n",
        "\r\n",
        "        time.sleep(.1)\r\n",
        "\r\n",
        "        try:\r\n",
        "            driver.find_element_by_class_name(\"ModalStyle__xBtn___29PT9\").click()  #clicking to the X.\r\n",
        "        except NoSuchElementException:\r\n",
        "            pass\r\n",
        "\r\n",
        "        \r\n",
        "        #Going through each job in this page\r\n",
        "        job_buttons = driver.find_elements_by_class_name(\"jl\")  #jl for Job Listing. These are the buttons we're going to click.\r\n",
        "        for job_button in job_buttons:  \r\n",
        "\r\n",
        "            print(\"Progress: {}\".format(\"\" + str(len(jobs)) + \"/\" + str(num_jobs)))\r\n",
        "            if len(jobs) >= num_jobs:\r\n",
        "                break\r\n",
        "\r\n",
        "            job_button.click()  #You might \r\n",
        "            time.sleep(1)\r\n",
        "            collected_successfully = False\r\n",
        "            \r\n",
        "            while not collected_successfully:\r\n",
        "                try:\r\n",
        "                    company_name = driver.find_element_by_xpath('.//div[@class=\"employerName\"]').text\r\n",
        "                    location = driver.find_element_by_xpath('.//div[@class=\"location\"]').text\r\n",
        "                    job_title = driver.find_element_by_xpath('.//div[contains(@class, \"title\")]').text\r\n",
        "                    job_description = driver.find_element_by_xpath('.//div[@class=\"jobDescriptionContent desc\"]').text\r\n",
        "                    collected_successfully = True\r\n",
        "                except:\r\n",
        "                    time.sleep(5)\r\n",
        "\r\n",
        "            try:\r\n",
        "                salary_estimate = driver.find_element_by_xpath('.//span[@class=\"gray small salary\"]').text\r\n",
        "            except NoSuchElementException:\r\n",
        "                salary_estimate = -1 #You need to set a \"not found value. It's important.\"\r\n",
        "            try:\r\n",
        "                rating = driver.find_element_by_xpath('.//span[@class=\"rating\"]').text\r\n",
        "            except NoSuchElementException:\r\n",
        "                rating = -1 #You need to set a \"not found value. It's important.\"\r\n",
        "\r\n",
        "            #Printing for debugging\r\n",
        "            if verbose:\r\n",
        "                print(\"Job Title: {}\".format(job_title))\r\n",
        "                print(\"Salary Estimate: {}\".format(salary_estimate))\r\n",
        "                print(\"Job Description: {}\".format(job_description[:500]))\r\n",
        "                print(\"Rating: {}\".format(rating))\r\n",
        "                print(\"Company Name: {}\".format(company_name))\r\n",
        "                print(\"Location: {}\".format(location))\r\n",
        "\r\n",
        "            #Going to the Company tab...\r\n",
        "            #clicking on this:\r\n",
        "            #<div class=\"tab\" data-tab-type=\"overview\"><span>Company</span></div>\r\n",
        "            try:\r\n",
        "                driver.find_element_by_xpath('.//div[@class=\"tab\" and @data-tab-type=\"overview\"]').click()\r\n",
        "\r\n",
        "                try:\r\n",
        "                    #<div class=\"infoEntity\">\r\n",
        "                    #    <label>Headquarters</label>\r\n",
        "                    #    <span class=\"value\">San Francisco, CA</span>\r\n",
        "                    #</div>\r\n",
        "                    headquarters = driver.find_element_by_xpath('.//div[@class=\"infoEntity\"]//label[text()=\"Headquarters\"]//following-sibling::*').text\r\n",
        "                except NoSuchElementException:\r\n",
        "                    headquarters = -1\r\n",
        "\r\n",
        "                try:\r\n",
        "                    size = driver.find_element_by_xpath('.//div[@class=\"infoEntity\"]//label[text()=\"Size\"]//following-sibling::*').text\r\n",
        "                except NoSuchElementException:\r\n",
        "                    size = -1\r\n",
        "\r\n",
        "                try:\r\n",
        "                    founded = driver.find_element_by_xpath('.//div[@class=\"infoEntity\"]//label[text()=\"Founded\"]//following-sibling::*').text\r\n",
        "                except NoSuchElementException:\r\n",
        "                    founded = -1\r\n",
        "\r\n",
        "                try:\r\n",
        "                    type_of_ownership = driver.find_element_by_xpath('.//div[@class=\"infoEntity\"]//label[text()=\"Type\"]//following-sibling::*').text\r\n",
        "                except NoSuchElementException:\r\n",
        "                    type_of_ownership = -1\r\n",
        "\r\n",
        "                try:\r\n",
        "                    industry = driver.find_element_by_xpath('.//div[@class=\"infoEntity\"]//label[text()=\"Industry\"]//following-sibling::*').text\r\n",
        "                except NoSuchElementException:\r\n",
        "                    industry = -1\r\n",
        "\r\n",
        "                try:\r\n",
        "                    sector = driver.find_element_by_xpath('.//div[@class=\"infoEntity\"]//label[text()=\"Sector\"]//following-sibling::*').text\r\n",
        "                except NoSuchElementException:\r\n",
        "                    sector = -1\r\n",
        "\r\n",
        "                try:\r\n",
        "                    revenue = driver.find_element_by_xpath('.//div[@class=\"infoEntity\"]//label[text()=\"Revenue\"]//following-sibling::*').text\r\n",
        "                except NoSuchElementException:\r\n",
        "                    revenue = -1\r\n",
        "\r\n",
        "                try:\r\n",
        "                    competitors = driver.find_element_by_xpath('.//div[@class=\"infoEntity\"]//label[text()=\"Competitors\"]//following-sibling::*').text\r\n",
        "                except NoSuchElementException:\r\n",
        "                    competitors = -1\r\n",
        "\r\n",
        "            except NoSuchElementException:  #Rarely, some job postings do not have the \"Company\" tab.\r\n",
        "                headquarters = -1\r\n",
        "                size = -1\r\n",
        "                founded = -1\r\n",
        "                type_of_ownership = -1\r\n",
        "                industry = -1\r\n",
        "                sector = -1\r\n",
        "                revenue = -1\r\n",
        "                competitors = -1\r\n",
        "            if verbose:\r\n",
        "                print(\"Headquarters: {}\".format(headquarters))\r\n",
        "                print(\"Size: {}\".format(size))\r\n",
        "                print(\"Founded: {}\".format(founded))\r\n",
        "                print(\"Type of Ownership: {}\".format(type_of_ownership))\r\n",
        "                print(\"Industry: {}\".format(industry))\r\n",
        "                print(\"Sector: {}\".format(sector))\r\n",
        "                print(\"Revenue: {}\".format(revenue))\r\n",
        "                print(\"Competitors: {}\".format(competitors))\r\n",
        "                print(\"@@@@@@@@@@@@@@@@@@@@@@@@@@@@@@@@@@@@@@@@@@@@@@@@@@@@\")\r\n",
        "\r\n",
        "            jobs.append({\"Job Title\" : job_title,\r\n",
        "            \"Salary Estimate\" : salary_estimate,\r\n",
        "            \"Job Description\" : job_description,\r\n",
        "            \"Rating\" : rating,\r\n",
        "            \"Company Name\" : company_name,\r\n",
        "            \"Location\" : location,\r\n",
        "            \"Headquarters\" : headquarters,\r\n",
        "            \"Size\" : size,\r\n",
        "            \"Founded\" : founded,\r\n",
        "            \"Type of ownership\" : type_of_ownership,\r\n",
        "            \"Industry\" : industry,\r\n",
        "            \"Sector\" : sector,\r\n",
        "            \"Revenue\" : revenue,\r\n",
        "            \"Competitors\" : competitors})\r\n",
        "            #add job to jobs\r\n",
        "\r\n",
        "        #Clicking on the \"next page\" button\r\n",
        "        try:\r\n",
        "            driver.find_element_by_xpath('.//li[@class=\"next\"]//a').click()\r\n",
        "        except NoSuchElementException:\r\n",
        "            print(\"Scraping terminated before reaching target number of jobs. Needed {}, got {}.\".format(num_jobs, len(jobs)))\r\n",
        "            break\r\n",
        "\r\n",
        "    return pd.DataFrame(jobs)  #This line converts the dictionary object into a pandas DataFrame."
      ],
      "execution_count": 9,
      "outputs": []
    },
    {
      "cell_type": "code",
      "metadata": {
        "colab": {
          "base_uri": "https://localhost:8080/",
          "height": 442
        },
        "id": "W3zx7_YfNCui",
        "outputId": "66f2c011-5fea-4450-b421-2f29617094bc"
      },
      "source": [
        "\r\n",
        "\r\n",
        "df = get_jobs(\"data scientist\", 15, False, 15)"
      ],
      "execution_count": 10,
      "outputs": [
        {
          "output_type": "error",
          "ename": "WebDriverException",
          "evalue": "ignored",
          "traceback": [
            "\u001b[0;31m---------------------------------------------------------------------------\u001b[0m",
            "\u001b[0;31mFileNotFoundError\u001b[0m                         Traceback (most recent call last)",
            "\u001b[0;32m/usr/local/lib/python3.7/dist-packages/selenium/webdriver/common/service.py\u001b[0m in \u001b[0;36mstart\u001b[0;34m(self)\u001b[0m\n\u001b[1;32m     75\u001b[0m                                             \u001b[0mstderr\u001b[0m\u001b[0;34m=\u001b[0m\u001b[0mself\u001b[0m\u001b[0;34m.\u001b[0m\u001b[0mlog_file\u001b[0m\u001b[0;34m,\u001b[0m\u001b[0;34m\u001b[0m\u001b[0;34m\u001b[0m\u001b[0m\n\u001b[0;32m---> 76\u001b[0;31m                                             stdin=PIPE)\n\u001b[0m\u001b[1;32m     77\u001b[0m         \u001b[0;32mexcept\u001b[0m \u001b[0mTypeError\u001b[0m\u001b[0;34m:\u001b[0m\u001b[0;34m\u001b[0m\u001b[0;34m\u001b[0m\u001b[0m\n",
            "\u001b[0;32m/usr/lib/python3.7/subprocess.py\u001b[0m in \u001b[0;36m__init__\u001b[0;34m(self, args, bufsize, executable, stdin, stdout, stderr, preexec_fn, close_fds, shell, cwd, env, universal_newlines, startupinfo, creationflags, restore_signals, start_new_session, pass_fds, encoding, errors, text)\u001b[0m\n\u001b[1;32m    799\u001b[0m                                 \u001b[0merrread\u001b[0m\u001b[0;34m,\u001b[0m \u001b[0merrwrite\u001b[0m\u001b[0;34m,\u001b[0m\u001b[0;34m\u001b[0m\u001b[0;34m\u001b[0m\u001b[0m\n\u001b[0;32m--> 800\u001b[0;31m                                 restore_signals, start_new_session)\n\u001b[0m\u001b[1;32m    801\u001b[0m         \u001b[0;32mexcept\u001b[0m\u001b[0;34m:\u001b[0m\u001b[0;34m\u001b[0m\u001b[0;34m\u001b[0m\u001b[0m\n",
            "\u001b[0;32m/usr/lib/python3.7/subprocess.py\u001b[0m in \u001b[0;36m_execute_child\u001b[0;34m(self, args, executable, preexec_fn, close_fds, pass_fds, cwd, env, startupinfo, creationflags, shell, p2cread, p2cwrite, c2pread, c2pwrite, errread, errwrite, restore_signals, start_new_session)\u001b[0m\n\u001b[1;32m   1550\u001b[0m                             \u001b[0merr_msg\u001b[0m \u001b[0;34m+=\u001b[0m \u001b[0;34m': '\u001b[0m \u001b[0;34m+\u001b[0m \u001b[0mrepr\u001b[0m\u001b[0;34m(\u001b[0m\u001b[0merr_filename\u001b[0m\u001b[0;34m)\u001b[0m\u001b[0;34m\u001b[0m\u001b[0;34m\u001b[0m\u001b[0m\n\u001b[0;32m-> 1551\u001b[0;31m                     \u001b[0;32mraise\u001b[0m \u001b[0mchild_exception_type\u001b[0m\u001b[0;34m(\u001b[0m\u001b[0merrno_num\u001b[0m\u001b[0;34m,\u001b[0m \u001b[0merr_msg\u001b[0m\u001b[0;34m,\u001b[0m \u001b[0merr_filename\u001b[0m\u001b[0;34m)\u001b[0m\u001b[0;34m\u001b[0m\u001b[0;34m\u001b[0m\u001b[0m\n\u001b[0m\u001b[1;32m   1552\u001b[0m                 \u001b[0;32mraise\u001b[0m \u001b[0mchild_exception_type\u001b[0m\u001b[0;34m(\u001b[0m\u001b[0merr_msg\u001b[0m\u001b[0;34m)\u001b[0m\u001b[0;34m\u001b[0m\u001b[0;34m\u001b[0m\u001b[0m\n",
            "\u001b[0;31mFileNotFoundError\u001b[0m: [Errno 2] No such file or directory: 'C:/Users/arany/Documents/data_sci_sal/chromedriver': 'C:/Users/arany/Documents/data_sci_sal/chromedriver'",
            "\nDuring handling of the above exception, another exception occurred:\n",
            "\u001b[0;31mWebDriverException\u001b[0m                        Traceback (most recent call last)",
            "\u001b[0;32m<ipython-input-10-427a0cf7a40c>\u001b[0m in \u001b[0;36m<module>\u001b[0;34m()\u001b[0m\n\u001b[1;32m      1\u001b[0m \u001b[0;34m\u001b[0m\u001b[0m\n\u001b[1;32m      2\u001b[0m \u001b[0;34m\u001b[0m\u001b[0m\n\u001b[0;32m----> 3\u001b[0;31m \u001b[0mdf\u001b[0m \u001b[0;34m=\u001b[0m \u001b[0mget_jobs\u001b[0m\u001b[0;34m(\u001b[0m\u001b[0;34m\"data scientist\"\u001b[0m\u001b[0;34m,\u001b[0m \u001b[0;36m15\u001b[0m\u001b[0;34m,\u001b[0m \u001b[0;32mFalse\u001b[0m\u001b[0;34m,\u001b[0m \u001b[0;36m15\u001b[0m\u001b[0;34m)\u001b[0m\u001b[0;34m\u001b[0m\u001b[0;34m\u001b[0m\u001b[0m\n\u001b[0m",
            "\u001b[0;32m<ipython-input-9-1dc6d703f35a>\u001b[0m in \u001b[0;36mget_jobs\u001b[0;34m(keyword, num_jobs, verbose, slp_time)\u001b[0m\n\u001b[1;32m     10\u001b[0m \u001b[0;34m\u001b[0m\u001b[0m\n\u001b[1;32m     11\u001b[0m     \u001b[0;31m#Change the path to where chromedriver is in your home folder.\u001b[0m\u001b[0;34m\u001b[0m\u001b[0;34m\u001b[0m\u001b[0;34m\u001b[0m\u001b[0m\n\u001b[0;32m---> 12\u001b[0;31m     \u001b[0mdriver\u001b[0m \u001b[0;34m=\u001b[0m \u001b[0mwebdriver\u001b[0m\u001b[0;34m.\u001b[0m\u001b[0mChrome\u001b[0m\u001b[0;34m(\u001b[0m\u001b[0mexecutable_path\u001b[0m \u001b[0;34m=\u001b[0m \u001b[0;34m\"C:/Users/arany/Documents/data_sci_sal/chromedriver\"\u001b[0m\u001b[0;34m,\u001b[0m \u001b[0moptions\u001b[0m\u001b[0;34m=\u001b[0m\u001b[0moptions\u001b[0m\u001b[0;34m)\u001b[0m\u001b[0;34m\u001b[0m\u001b[0;34m\u001b[0m\u001b[0m\n\u001b[0m\u001b[1;32m     13\u001b[0m     \u001b[0mdriver\u001b[0m\u001b[0;34m.\u001b[0m\u001b[0mset_window_size\u001b[0m\u001b[0;34m(\u001b[0m\u001b[0;36m1120\u001b[0m\u001b[0;34m,\u001b[0m \u001b[0;36m1000\u001b[0m\u001b[0;34m)\u001b[0m\u001b[0;34m\u001b[0m\u001b[0;34m\u001b[0m\u001b[0m\n\u001b[1;32m     14\u001b[0m \u001b[0;34m\u001b[0m\u001b[0m\n",
            "\u001b[0;32m/usr/local/lib/python3.7/dist-packages/selenium/webdriver/chrome/webdriver.py\u001b[0m in \u001b[0;36m__init__\u001b[0;34m(self, executable_path, port, options, service_args, desired_capabilities, service_log_path, chrome_options, keep_alive)\u001b[0m\n\u001b[1;32m     71\u001b[0m             \u001b[0mservice_args\u001b[0m\u001b[0;34m=\u001b[0m\u001b[0mservice_args\u001b[0m\u001b[0;34m,\u001b[0m\u001b[0;34m\u001b[0m\u001b[0;34m\u001b[0m\u001b[0m\n\u001b[1;32m     72\u001b[0m             log_path=service_log_path)\n\u001b[0;32m---> 73\u001b[0;31m         \u001b[0mself\u001b[0m\u001b[0;34m.\u001b[0m\u001b[0mservice\u001b[0m\u001b[0;34m.\u001b[0m\u001b[0mstart\u001b[0m\u001b[0;34m(\u001b[0m\u001b[0;34m)\u001b[0m\u001b[0;34m\u001b[0m\u001b[0;34m\u001b[0m\u001b[0m\n\u001b[0m\u001b[1;32m     74\u001b[0m \u001b[0;34m\u001b[0m\u001b[0m\n\u001b[1;32m     75\u001b[0m         \u001b[0;32mtry\u001b[0m\u001b[0;34m:\u001b[0m\u001b[0;34m\u001b[0m\u001b[0;34m\u001b[0m\u001b[0m\n",
            "\u001b[0;32m/usr/local/lib/python3.7/dist-packages/selenium/webdriver/common/service.py\u001b[0m in \u001b[0;36mstart\u001b[0;34m(self)\u001b[0m\n\u001b[1;32m     81\u001b[0m                 raise WebDriverException(\n\u001b[1;32m     82\u001b[0m                     \"'%s' executable needs to be in PATH. %s\" % (\n\u001b[0;32m---> 83\u001b[0;31m                         os.path.basename(self.path), self.start_error_message)\n\u001b[0m\u001b[1;32m     84\u001b[0m                 )\n\u001b[1;32m     85\u001b[0m             \u001b[0;32melif\u001b[0m \u001b[0merr\u001b[0m\u001b[0;34m.\u001b[0m\u001b[0merrno\u001b[0m \u001b[0;34m==\u001b[0m \u001b[0merrno\u001b[0m\u001b[0;34m.\u001b[0m\u001b[0mEACCES\u001b[0m\u001b[0;34m:\u001b[0m\u001b[0;34m\u001b[0m\u001b[0;34m\u001b[0m\u001b[0m\n",
            "\u001b[0;31mWebDriverException\u001b[0m: Message: 'chromedriver' executable needs to be in PATH. Please see https://sites.google.com/a/chromium.org/chromedriver/home\n"
          ]
        }
      ]
    },
    {
      "cell_type": "code",
      "metadata": {
        "id": "5nn8zzjQN9Ss"
      },
      "source": [
        ""
      ],
      "execution_count": null,
      "outputs": []
    }
  ]
}